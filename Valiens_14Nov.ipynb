{
 "cells": [
  {
   "cell_type": "code",
   "execution_count": null,
   "metadata": {
    "scrolled": false
   },
   "outputs": [],
   "source": [
    "import pandas as pd\n",
    "import numpy as np\n",
    "import matplotlib\n",
    "import matplotlib.pyplot as plt\n",
    "pd.options.display.float_format = '{:,.2f}'.format"
   ]
  },
  {
   "cell_type": "code",
   "execution_count": 334,
   "metadata": {
    "scrolled": false
   },
   "outputs": [],
   "source": [
    "df=pd.read_csv(\"C:\\\\Users\\Snow\\Downloads\\Valiens_UA_Oct5_16.csv\")"
   ]
  },
  {
   "cell_type": "code",
   "execution_count": 335,
   "metadata": {},
   "outputs": [
    {
     "data": {
      "text/html": [
       "<div>\n",
       "<style scoped>\n",
       "    .dataframe tbody tr th:only-of-type {\n",
       "        vertical-align: middle;\n",
       "    }\n",
       "\n",
       "    .dataframe tbody tr th {\n",
       "        vertical-align: top;\n",
       "    }\n",
       "\n",
       "    .dataframe thead th {\n",
       "        text-align: right;\n",
       "    }\n",
       "</style>\n",
       "<table border=\"1\" class=\"dataframe\">\n",
       "  <thead>\n",
       "    <tr style=\"text-align: right;\">\n",
       "      <th></th>\n",
       "      <th>AMP_ID</th>\n",
       "      <th>EVENT_TIME</th>\n",
       "      <th>THE_DATE</th>\n",
       "      <th>LAST_SESSION_END</th>\n",
       "      <th>CURRENT_LEVEL_NUMBER</th>\n",
       "      <th>CURRENT_LEVEL_FILENAME</th>\n",
       "      <th>INSTALL_DATE</th>\n",
       "      <th>ACTIVE_DAYS</th>\n",
       "      <th>TOTAL_SESSIONS</th>\n",
       "      <th>TOTAL_MINUTE_PLAYED</th>\n",
       "      <th>...</th>\n",
       "      <th>HARDCASH_EARNED</th>\n",
       "      <th>HARDCASH_SPENT</th>\n",
       "      <th>NB_STAR_CHESTS_OPENED</th>\n",
       "      <th>NB_PROGRESSION_CHEST_OPENED</th>\n",
       "      <th>STAR_EARNED</th>\n",
       "      <th>IS_COPPA</th>\n",
       "      <th>CURRENT_LEVEL_VERSION_NOTES</th>\n",
       "      <th>SEED_UTILITY_ID</th>\n",
       "      <th>SEED_GENERATOR_ID</th>\n",
       "      <th>CURRENT_LEVEL_AVAILABLE</th>\n",
       "    </tr>\n",
       "  </thead>\n",
       "  <tbody>\n",
       "    <tr>\n",
       "      <td>0</td>\n",
       "      <td>115274803114</td>\n",
       "      <td>2019-10-09 19:10:40</td>\n",
       "      <td>2019-10-09</td>\n",
       "      <td>2019-10-09 19:10:40</td>\n",
       "      <td>26</td>\n",
       "      <td>vb_re_bombandcages_a</td>\n",
       "      <td>2019-10-05</td>\n",
       "      <td>4</td>\n",
       "      <td>8</td>\n",
       "      <td>76</td>\n",
       "      <td>...</td>\n",
       "      <td>(null)</td>\n",
       "      <td>(null)</td>\n",
       "      <td>(null)</td>\n",
       "      <td>(null)</td>\n",
       "      <td>(null)</td>\n",
       "      <td>false</td>\n",
       "      <td>(null)</td>\n",
       "      <td>1</td>\n",
       "      <td>5</td>\n",
       "      <td>(null)</td>\n",
       "    </tr>\n",
       "    <tr>\n",
       "      <td>1</td>\n",
       "      <td>115517106206</td>\n",
       "      <td>2019-10-11 22:45:45</td>\n",
       "      <td>2019-10-11</td>\n",
       "      <td>2019-10-11 22:45:45</td>\n",
       "      <td>33</td>\n",
       "      <td>me_tut_rainbowfruit_a</td>\n",
       "      <td>2019-10-07</td>\n",
       "      <td>4</td>\n",
       "      <td>6</td>\n",
       "      <td>135</td>\n",
       "      <td>...</td>\n",
       "      <td>(null)</td>\n",
       "      <td>(null)</td>\n",
       "      <td>(null)</td>\n",
       "      <td>(null)</td>\n",
       "      <td>(null)</td>\n",
       "      <td>false</td>\n",
       "      <td>(null)</td>\n",
       "      <td>0</td>\n",
       "      <td>104</td>\n",
       "      <td>(null)</td>\n",
       "    </tr>\n",
       "    <tr>\n",
       "      <td>2</td>\n",
       "      <td>115849545211</td>\n",
       "      <td>2019-10-12 23:59:15</td>\n",
       "      <td>2019-10-12</td>\n",
       "      <td>2019-10-12 23:59:15</td>\n",
       "      <td>24</td>\n",
       "      <td>as_re_thetube_a</td>\n",
       "      <td>2019-10-08</td>\n",
       "      <td>2</td>\n",
       "      <td>2</td>\n",
       "      <td>39</td>\n",
       "      <td>...</td>\n",
       "      <td>(null)</td>\n",
       "      <td>(null)</td>\n",
       "      <td>(null)</td>\n",
       "      <td>(null)</td>\n",
       "      <td>(null)</td>\n",
       "      <td>false</td>\n",
       "      <td>(null)</td>\n",
       "      <td>0</td>\n",
       "      <td>1571</td>\n",
       "      <td>(null)</td>\n",
       "    </tr>\n",
       "    <tr>\n",
       "      <td>3</td>\n",
       "      <td>115274803114</td>\n",
       "      <td>2019-10-12 19:00:34</td>\n",
       "      <td>2019-10-12</td>\n",
       "      <td>2019-10-12 19:00:34</td>\n",
       "      <td>30</td>\n",
       "      <td>vb_re_heartshaped_a</td>\n",
       "      <td>2019-10-05</td>\n",
       "      <td>6</td>\n",
       "      <td>12</td>\n",
       "      <td>106</td>\n",
       "      <td>...</td>\n",
       "      <td>(null)</td>\n",
       "      <td>(null)</td>\n",
       "      <td>(null)</td>\n",
       "      <td>(null)</td>\n",
       "      <td>(null)</td>\n",
       "      <td>false</td>\n",
       "      <td>(null)</td>\n",
       "      <td>0</td>\n",
       "      <td>20</td>\n",
       "      <td>(null)</td>\n",
       "    </tr>\n",
       "    <tr>\n",
       "      <td>4</td>\n",
       "      <td>116233294067</td>\n",
       "      <td>2019-10-13 14:31:31</td>\n",
       "      <td>2019-10-13</td>\n",
       "      <td>2019-10-13 14:31:31</td>\n",
       "      <td>19</td>\n",
       "      <td>me_bu_toughcorn_a</td>\n",
       "      <td>2019-10-09</td>\n",
       "      <td>3</td>\n",
       "      <td>4</td>\n",
       "      <td>66</td>\n",
       "      <td>...</td>\n",
       "      <td>(null)</td>\n",
       "      <td>(null)</td>\n",
       "      <td>(null)</td>\n",
       "      <td>(null)</td>\n",
       "      <td>(null)</td>\n",
       "      <td>false</td>\n",
       "      <td>(null)</td>\n",
       "      <td>0</td>\n",
       "      <td>2</td>\n",
       "      <td>(null)</td>\n",
       "    </tr>\n",
       "  </tbody>\n",
       "</table>\n",
       "<p>5 rows × 38 columns</p>\n",
       "</div>"
      ],
      "text/plain": [
       "         AMP_ID           EVENT_TIME    THE_DATE     LAST_SESSION_END  \\\n",
       "0  115274803114  2019-10-09 19:10:40  2019-10-09  2019-10-09 19:10:40   \n",
       "1  115517106206  2019-10-11 22:45:45  2019-10-11  2019-10-11 22:45:45   \n",
       "2  115849545211  2019-10-12 23:59:15  2019-10-12  2019-10-12 23:59:15   \n",
       "3  115274803114  2019-10-12 19:00:34  2019-10-12  2019-10-12 19:00:34   \n",
       "4  116233294067  2019-10-13 14:31:31  2019-10-13  2019-10-13 14:31:31   \n",
       "\n",
       "   CURRENT_LEVEL_NUMBER CURRENT_LEVEL_FILENAME INSTALL_DATE  ACTIVE_DAYS  \\\n",
       "0                    26   vb_re_bombandcages_a   2019-10-05            4   \n",
       "1                    33  me_tut_rainbowfruit_a   2019-10-07            4   \n",
       "2                    24        as_re_thetube_a   2019-10-08            2   \n",
       "3                    30    vb_re_heartshaped_a   2019-10-05            6   \n",
       "4                    19      me_bu_toughcorn_a   2019-10-09            3   \n",
       "\n",
       "   TOTAL_SESSIONS TOTAL_MINUTE_PLAYED  ... HARDCASH_EARNED HARDCASH_SPENT  \\\n",
       "0               8                  76  ...          (null)         (null)   \n",
       "1               6                 135  ...          (null)         (null)   \n",
       "2               2                  39  ...          (null)         (null)   \n",
       "3              12                 106  ...          (null)         (null)   \n",
       "4               4                  66  ...          (null)         (null)   \n",
       "\n",
       "   NB_STAR_CHESTS_OPENED  NB_PROGRESSION_CHEST_OPENED STAR_EARNED IS_COPPA  \\\n",
       "0                 (null)                       (null)      (null)    false   \n",
       "1                 (null)                       (null)      (null)    false   \n",
       "2                 (null)                       (null)      (null)    false   \n",
       "3                 (null)                       (null)      (null)    false   \n",
       "4                 (null)                       (null)      (null)    false   \n",
       "\n",
       "  CURRENT_LEVEL_VERSION_NOTES SEED_UTILITY_ID SEED_GENERATOR_ID  \\\n",
       "0                      (null)               1                 5   \n",
       "1                      (null)               0               104   \n",
       "2                      (null)               0              1571   \n",
       "3                      (null)               0                20   \n",
       "4                      (null)               0                 2   \n",
       "\n",
       "  CURRENT_LEVEL_AVAILABLE  \n",
       "0                  (null)  \n",
       "1                  (null)  \n",
       "2                  (null)  \n",
       "3                  (null)  \n",
       "4                  (null)  \n",
       "\n",
       "[5 rows x 38 columns]"
      ]
     },
     "execution_count": 335,
     "metadata": {},
     "output_type": "execute_result"
    }
   ],
   "source": [
    "df.head()"
   ]
  },
  {
   "cell_type": "code",
   "execution_count": 320,
   "metadata": {},
   "outputs": [
    {
     "name": "stdout",
     "output_type": "stream",
     "text": [
      "['AMP_ID' 'EVENT_TIME' 'THE_DATE' 'LAST_SESSION_END'\n",
      " 'CURRENT_LEVEL_NUMBER' 'CURRENT_LEVEL_FILENAME' 'INSTALL_DATE'\n",
      " 'ACTIVE_DAYS' 'TOTAL_SESSIONS' 'TOTAL_MINUTE_PLAYED' 'IS_OFFLINE'\n",
      " 'NB_HOURS_OFFLINE' 'IS_CHEAT_BUILD' 'CURRENT_LEVEL_VERSION'\n",
      " 'LEVEL_ATTEMPT' 'LEVEL_SEED_GENERATOR_ATTEMPT'\n",
      " 'LEVEL_SEED_UTILITY_ATTEMPT' 'LEVEL_SEED_UTILITY_AND_GENERATOR_ATTEMPT'\n",
      " 'CURRENT_LEVEL_UTILITY_SEED_ID' 'CURRENT_LEVEL_GENERATOR_ID'\n",
      " 'CURRENT_LIVES_BALANCE' 'TOTAL_AMOUNT_SPENT' 'HARDCASH_BALANCE'\n",
      " 'STAR_BALANCE' 'IS_OFFLINE_SESSION_ID' 'ACCOUNT_AGE' 'TOTAL_NB_PURCHASE'\n",
      " 'TOTAL_LEVEL_ATTEMPT' 'HARDCASH_EARNED' 'HARDCASH_SPENT'\n",
      " 'NB_STAR_CHESTS_OPENED' 'NB_PROGRESSION_CHEST_OPENED' 'STAR_EARNED'\n",
      " 'IS_COPPA' 'CURRENT_LEVEL_VERSION_NOTES' 'SEED_UTILITY_ID'\n",
      " 'SEED_GENERATOR_ID' 'CURRENT_LEVEL_AVAILABLE']\n"
     ]
    }
   ],
   "source": [
    "#what we have\n",
    "print(df.columns.values)"
   ]
  },
  {
   "cell_type": "code",
   "execution_count": 321,
   "metadata": {},
   "outputs": [],
   "source": [
    "#what we don't need - filter data\n",
    "df.drop(['EVENT_TIME','LAST_SESSION_END', 'INSTALL_DATE','IS_CHEAT_BUILD', 'CURRENT_LEVEL_VERSION',\n",
    "         'CURRENT_LEVEL_UTILITY_SEED_ID','ACCOUNT_AGE',\n",
    "         'LEVEL_SEED_GENERATOR_ATTEMPT','LEVEL_SEED_UTILITY_ATTEMPT', 'LEVEL_SEED_UTILITY_AND_GENERATOR_ATTEMPT',\n",
    "         'CURRENT_LEVEL_GENERATOR_ID','NB_STAR_CHESTS_OPENED', 'NB_PROGRESSION_CHEST_OPENED', 'STAR_EARNED',\n",
    "         'IS_COPPA','CURRENT_LEVEL_VERSION_NOTES', 'SEED_UTILITY_ID',\n",
    "         'SEED_GENERATOR_ID','CURRENT_LEVEL_AVAILABLE','TOTAL_NB_PURCHASE', 'TOTAL_LEVEL_ATTEMPT',\n",
    "         'HARDCASH_EARNED', 'HARDCASH_SPENT','TOTAL_AMOUNT_SPENT'], axis=1, inplace=True)"
   ]
  },
  {
   "cell_type": "code",
   "execution_count": 336,
   "metadata": {
    "scrolled": false
   },
   "outputs": [
    {
     "name": "stdout",
     "output_type": "stream",
     "text": [
      "<class 'pandas.core.frame.DataFrame'>\n",
      "RangeIndex: 550 entries, 0 to 549\n",
      "Data columns (total 38 columns):\n",
      "AMP_ID                                      550 non-null int64\n",
      "EVENT_TIME                                  550 non-null object\n",
      "THE_DATE                                    550 non-null object\n",
      "LAST_SESSION_END                            550 non-null object\n",
      "CURRENT_LEVEL_NUMBER                        550 non-null int64\n",
      "CURRENT_LEVEL_FILENAME                      550 non-null object\n",
      "INSTALL_DATE                                550 non-null object\n",
      "ACTIVE_DAYS                                 550 non-null int64\n",
      "TOTAL_SESSIONS                              550 non-null int64\n",
      "TOTAL_MINUTE_PLAYED                         550 non-null object\n",
      "IS_OFFLINE                                  550 non-null object\n",
      "NB_HOURS_OFFLINE                            550 non-null object\n",
      "IS_CHEAT_BUILD                              550 non-null bool\n",
      "CURRENT_LEVEL_VERSION                       550 non-null int64\n",
      "LEVEL_ATTEMPT                               550 non-null object\n",
      "LEVEL_SEED_GENERATOR_ATTEMPT                550 non-null object\n",
      "LEVEL_SEED_UTILITY_ATTEMPT                  550 non-null object\n",
      "LEVEL_SEED_UTILITY_AND_GENERATOR_ATTEMPT    550 non-null object\n",
      "CURRENT_LEVEL_UTILITY_SEED_ID               550 non-null object\n",
      "CURRENT_LEVEL_GENERATOR_ID                  550 non-null object\n",
      "CURRENT_LIVES_BALANCE                       550 non-null int64\n",
      "TOTAL_AMOUNT_SPENT                          550 non-null object\n",
      "HARDCASH_BALANCE                            550 non-null int64\n",
      "STAR_BALANCE                                550 non-null int64\n",
      "IS_OFFLINE_SESSION_ID                       550 non-null object\n",
      "ACCOUNT_AGE                                 550 non-null object\n",
      "TOTAL_NB_PURCHASE                           550 non-null object\n",
      "TOTAL_LEVEL_ATTEMPT                         550 non-null object\n",
      "HARDCASH_EARNED                             550 non-null object\n",
      "HARDCASH_SPENT                              550 non-null object\n",
      "NB_STAR_CHESTS_OPENED                       550 non-null object\n",
      "NB_PROGRESSION_CHEST_OPENED                 550 non-null object\n",
      "STAR_EARNED                                 550 non-null object\n",
      "IS_COPPA                                    550 non-null object\n",
      "CURRENT_LEVEL_VERSION_NOTES                 550 non-null object\n",
      "SEED_UTILITY_ID                             550 non-null object\n",
      "SEED_GENERATOR_ID                           550 non-null object\n",
      "CURRENT_LEVEL_AVAILABLE                     550 non-null object\n",
      "dtypes: bool(1), int64(8), object(29)\n",
      "memory usage: 159.6+ KB\n"
     ]
    }
   ],
   "source": [
    "df.info()"
   ]
  },
  {
   "cell_type": "code",
   "execution_count": 323,
   "metadata": {},
   "outputs": [
    {
     "data": {
      "text/plain": [
       "AMP_ID                     int64\n",
       "THE_DATE                  object\n",
       "CURRENT_LEVEL_NUMBER       int64\n",
       "CURRENT_LEVEL_FILENAME    object\n",
       "ACTIVE_DAYS                int64\n",
       "TOTAL_SESSIONS             int64\n",
       "TOTAL_MINUTE_PLAYED       object\n",
       "IS_OFFLINE                object\n",
       "NB_HOURS_OFFLINE          object\n",
       "LEVEL_ATTEMPT             object\n",
       "CURRENT_LIVES_BALANCE      int64\n",
       "HARDCASH_BALANCE           int64\n",
       "STAR_BALANCE               int64\n",
       "IS_OFFLINE_SESSION_ID     object\n",
       "dtype: object"
      ]
     },
     "execution_count": 323,
     "metadata": {},
     "output_type": "execute_result"
    }
   ],
   "source": [
    "df.dtypes"
   ]
  },
  {
   "cell_type": "code",
   "execution_count": 324,
   "metadata": {},
   "outputs": [],
   "source": [
    "df[\"THE_DATE\"] = pd.to_datetime(df[\"THE_DATE\"])"
   ]
  },
  {
   "cell_type": "code",
   "execution_count": 325,
   "metadata": {},
   "outputs": [],
   "source": [
    "df[\"AMP_ID\"]=df[\"AMP_ID\"].apply(str)"
   ]
  },
  {
   "cell_type": "code",
   "execution_count": 326,
   "metadata": {},
   "outputs": [],
   "source": [
    "df.NB_HOURS_OFFLINE=df.NB_HOURS_OFFLINE.map({'(null)':0})\n",
    "df.NB_HOURS_OFFLINE=df.NB_HOURS_OFFLINE.apply(float)\n",
    "df.NB_HOURS_OFFLINE=df.NB_HOURS_OFFLINE*60*60"
   ]
  },
  {
   "cell_type": "code",
   "execution_count": 313,
   "metadata": {},
   "outputs": [
    {
     "ename": "ValueError",
     "evalue": "cannot convert float NaN to integer",
     "output_type": "error",
     "traceback": [
      "\u001b[1;31m---------------------------------------------------------------------------\u001b[0m",
      "\u001b[1;31mValueError\u001b[0m                                Traceback (most recent call last)",
      "\u001b[1;32m<ipython-input-313-6c93c3a29a3e>\u001b[0m in \u001b[0;36m<module>\u001b[1;34m\u001b[0m\n\u001b[0;32m      1\u001b[0m \u001b[0mdf\u001b[0m\u001b[1;33m.\u001b[0m\u001b[0mTOTAL_MINUTE_PLAYED\u001b[0m\u001b[1;33m=\u001b[0m\u001b[0mdf\u001b[0m\u001b[1;33m.\u001b[0m\u001b[0mTOTAL_MINUTE_PLAYED\u001b[0m\u001b[1;33m.\u001b[0m\u001b[0mmap\u001b[0m\u001b[1;33m(\u001b[0m\u001b[1;33m{\u001b[0m\u001b[1;34m'(null)'\u001b[0m\u001b[1;33m:\u001b[0m\u001b[1;36m0\u001b[0m\u001b[1;33m}\u001b[0m\u001b[1;33m)\u001b[0m\u001b[1;33m\u001b[0m\u001b[1;33m\u001b[0m\u001b[0m\n\u001b[1;32m----> 2\u001b[1;33m \u001b[0mdf\u001b[0m\u001b[1;33m[\u001b[0m\u001b[1;34m\"TOTAL_MINUTE_PLAYED\"\u001b[0m\u001b[1;33m]\u001b[0m\u001b[1;33m=\u001b[0m\u001b[0mdf\u001b[0m\u001b[1;33m[\u001b[0m\u001b[1;34m\"TOTAL_MINUTE_PLAYED\"\u001b[0m\u001b[1;33m]\u001b[0m\u001b[1;33m.\u001b[0m\u001b[0mapply\u001b[0m\u001b[1;33m(\u001b[0m\u001b[0mint\u001b[0m\u001b[1;33m)\u001b[0m\u001b[1;33m\u001b[0m\u001b[1;33m\u001b[0m\u001b[0m\n\u001b[0m",
      "\u001b[1;32m~\\Anaconda3\\lib\\site-packages\\pandas\\core\\series.py\u001b[0m in \u001b[0;36mapply\u001b[1;34m(self, func, convert_dtype, args, **kwds)\u001b[0m\n\u001b[0;32m   4040\u001b[0m             \u001b[1;32melse\u001b[0m\u001b[1;33m:\u001b[0m\u001b[1;33m\u001b[0m\u001b[1;33m\u001b[0m\u001b[0m\n\u001b[0;32m   4041\u001b[0m                 \u001b[0mvalues\u001b[0m \u001b[1;33m=\u001b[0m \u001b[0mself\u001b[0m\u001b[1;33m.\u001b[0m\u001b[0mastype\u001b[0m\u001b[1;33m(\u001b[0m\u001b[0mobject\u001b[0m\u001b[1;33m)\u001b[0m\u001b[1;33m.\u001b[0m\u001b[0mvalues\u001b[0m\u001b[1;33m\u001b[0m\u001b[1;33m\u001b[0m\u001b[0m\n\u001b[1;32m-> 4042\u001b[1;33m                 \u001b[0mmapped\u001b[0m \u001b[1;33m=\u001b[0m \u001b[0mlib\u001b[0m\u001b[1;33m.\u001b[0m\u001b[0mmap_infer\u001b[0m\u001b[1;33m(\u001b[0m\u001b[0mvalues\u001b[0m\u001b[1;33m,\u001b[0m \u001b[0mf\u001b[0m\u001b[1;33m,\u001b[0m \u001b[0mconvert\u001b[0m\u001b[1;33m=\u001b[0m\u001b[0mconvert_dtype\u001b[0m\u001b[1;33m)\u001b[0m\u001b[1;33m\u001b[0m\u001b[1;33m\u001b[0m\u001b[0m\n\u001b[0m\u001b[0;32m   4043\u001b[0m \u001b[1;33m\u001b[0m\u001b[0m\n\u001b[0;32m   4044\u001b[0m         \u001b[1;32mif\u001b[0m \u001b[0mlen\u001b[0m\u001b[1;33m(\u001b[0m\u001b[0mmapped\u001b[0m\u001b[1;33m)\u001b[0m \u001b[1;32mand\u001b[0m \u001b[0misinstance\u001b[0m\u001b[1;33m(\u001b[0m\u001b[0mmapped\u001b[0m\u001b[1;33m[\u001b[0m\u001b[1;36m0\u001b[0m\u001b[1;33m]\u001b[0m\u001b[1;33m,\u001b[0m \u001b[0mSeries\u001b[0m\u001b[1;33m)\u001b[0m\u001b[1;33m:\u001b[0m\u001b[1;33m\u001b[0m\u001b[1;33m\u001b[0m\u001b[0m\n",
      "\u001b[1;32mpandas\\_libs\\lib.pyx\u001b[0m in \u001b[0;36mpandas._libs.lib.map_infer\u001b[1;34m()\u001b[0m\n",
      "\u001b[1;31mValueError\u001b[0m: cannot convert float NaN to integer"
     ]
    }
   ],
   "source": [
    "df.TOTAL_MINUTE_PLAYED=df.TOTAL_MINUTE_PLAYED.map({'(null)':0})\n",
    "df[\"TOTAL_MINUTE_PLAYED\"]=df[\"TOTAL_MINUTE_PLAYED\"].apply(int)"
   ]
  },
  {
   "cell_type": "code",
   "execution_count": 338,
   "metadata": {},
   "outputs": [
    {
     "ename": "ValueError",
     "evalue": "invalid literal for int() with base 10: '(null)'",
     "output_type": "error",
     "traceback": [
      "\u001b[1;31m---------------------------------------------------------------------------\u001b[0m",
      "\u001b[1;31mValueError\u001b[0m                                Traceback (most recent call last)",
      "\u001b[1;32m<ipython-input-338-3215468948ab>\u001b[0m in \u001b[0;36m<module>\u001b[1;34m\u001b[0m\n\u001b[1;32m----> 1\u001b[1;33m \u001b[0mdf\u001b[0m\u001b[1;33m.\u001b[0m\u001b[0mLEVEL_ATTEMPT\u001b[0m \u001b[1;33m=\u001b[0m\u001b[0mdf\u001b[0m\u001b[1;33m.\u001b[0m\u001b[0mLEVEL_ATTEMPT\u001b[0m\u001b[1;33m.\u001b[0m\u001b[0mapply\u001b[0m\u001b[1;33m(\u001b[0m\u001b[0mint\u001b[0m\u001b[1;33m)\u001b[0m\u001b[1;33m\u001b[0m\u001b[1;33m\u001b[0m\u001b[0m\n\u001b[0m",
      "\u001b[1;32m~\\Anaconda3\\lib\\site-packages\\pandas\\core\\series.py\u001b[0m in \u001b[0;36mapply\u001b[1;34m(self, func, convert_dtype, args, **kwds)\u001b[0m\n\u001b[0;32m   4040\u001b[0m             \u001b[1;32melse\u001b[0m\u001b[1;33m:\u001b[0m\u001b[1;33m\u001b[0m\u001b[1;33m\u001b[0m\u001b[0m\n\u001b[0;32m   4041\u001b[0m                 \u001b[0mvalues\u001b[0m \u001b[1;33m=\u001b[0m \u001b[0mself\u001b[0m\u001b[1;33m.\u001b[0m\u001b[0mastype\u001b[0m\u001b[1;33m(\u001b[0m\u001b[0mobject\u001b[0m\u001b[1;33m)\u001b[0m\u001b[1;33m.\u001b[0m\u001b[0mvalues\u001b[0m\u001b[1;33m\u001b[0m\u001b[1;33m\u001b[0m\u001b[0m\n\u001b[1;32m-> 4042\u001b[1;33m                 \u001b[0mmapped\u001b[0m \u001b[1;33m=\u001b[0m \u001b[0mlib\u001b[0m\u001b[1;33m.\u001b[0m\u001b[0mmap_infer\u001b[0m\u001b[1;33m(\u001b[0m\u001b[0mvalues\u001b[0m\u001b[1;33m,\u001b[0m \u001b[0mf\u001b[0m\u001b[1;33m,\u001b[0m \u001b[0mconvert\u001b[0m\u001b[1;33m=\u001b[0m\u001b[0mconvert_dtype\u001b[0m\u001b[1;33m)\u001b[0m\u001b[1;33m\u001b[0m\u001b[1;33m\u001b[0m\u001b[0m\n\u001b[0m\u001b[0;32m   4043\u001b[0m \u001b[1;33m\u001b[0m\u001b[0m\n\u001b[0;32m   4044\u001b[0m         \u001b[1;32mif\u001b[0m \u001b[0mlen\u001b[0m\u001b[1;33m(\u001b[0m\u001b[0mmapped\u001b[0m\u001b[1;33m)\u001b[0m \u001b[1;32mand\u001b[0m \u001b[0misinstance\u001b[0m\u001b[1;33m(\u001b[0m\u001b[0mmapped\u001b[0m\u001b[1;33m[\u001b[0m\u001b[1;36m0\u001b[0m\u001b[1;33m]\u001b[0m\u001b[1;33m,\u001b[0m \u001b[0mSeries\u001b[0m\u001b[1;33m)\u001b[0m\u001b[1;33m:\u001b[0m\u001b[1;33m\u001b[0m\u001b[1;33m\u001b[0m\u001b[0m\n",
      "\u001b[1;32mpandas\\_libs\\lib.pyx\u001b[0m in \u001b[0;36mpandas._libs.lib.map_infer\u001b[1;34m()\u001b[0m\n",
      "\u001b[1;31mValueError\u001b[0m: invalid literal for int() with base 10: '(null)'"
     ]
    }
   ],
   "source": [
    "df.LEVEL_ATTEMPT =df.LEVEL_ATTEMPT.apply(int)"
   ]
  },
  {
   "cell_type": "code",
   "execution_count": null,
   "metadata": {},
   "outputs": [],
   "source": [
    "#drop a row based on a condition\n",
    "#df.drop(df[df.TOTAL_AMOUNT_SPENT == '(null)'].index, inplace=True)"
   ]
  },
  {
   "cell_type": "code",
   "execution_count": 339,
   "metadata": {
    "scrolled": false
   },
   "outputs": [
    {
     "data": {
      "text/html": [
       "<div>\n",
       "<style scoped>\n",
       "    .dataframe tbody tr th:only-of-type {\n",
       "        vertical-align: middle;\n",
       "    }\n",
       "\n",
       "    .dataframe tbody tr th {\n",
       "        vertical-align: top;\n",
       "    }\n",
       "\n",
       "    .dataframe thead th {\n",
       "        text-align: right;\n",
       "    }\n",
       "</style>\n",
       "<table border=\"1\" class=\"dataframe\">\n",
       "  <thead>\n",
       "    <tr style=\"text-align: right;\">\n",
       "      <th></th>\n",
       "      <th>AMP_ID</th>\n",
       "      <th>CURRENT_LEVEL_NUMBER</th>\n",
       "      <th>ACTIVE_DAYS</th>\n",
       "      <th>TOTAL_SESSIONS</th>\n",
       "      <th>CURRENT_LEVEL_VERSION</th>\n",
       "      <th>CURRENT_LIVES_BALANCE</th>\n",
       "      <th>HARDCASH_BALANCE</th>\n",
       "      <th>STAR_BALANCE</th>\n",
       "    </tr>\n",
       "  </thead>\n",
       "  <tbody>\n",
       "    <tr>\n",
       "      <td>count</td>\n",
       "      <td>550.00</td>\n",
       "      <td>550.00</td>\n",
       "      <td>550.00</td>\n",
       "      <td>550.00</td>\n",
       "      <td>550.00</td>\n",
       "      <td>550.00</td>\n",
       "      <td>550.00</td>\n",
       "      <td>550.00</td>\n",
       "    </tr>\n",
       "    <tr>\n",
       "      <td>mean</td>\n",
       "      <td>115,123,818,817.02</td>\n",
       "      <td>20.86</td>\n",
       "      <td>5.12</td>\n",
       "      <td>13.94</td>\n",
       "      <td>4.19</td>\n",
       "      <td>4.07</td>\n",
       "      <td>97.33</td>\n",
       "      <td>11.11</td>\n",
       "    </tr>\n",
       "    <tr>\n",
       "      <td>std</td>\n",
       "      <td>4,005,611,265.07</td>\n",
       "      <td>22.87</td>\n",
       "      <td>19.32</td>\n",
       "      <td>64.81</td>\n",
       "      <td>2.33</td>\n",
       "      <td>1.70</td>\n",
       "      <td>159.67</td>\n",
       "      <td>6.99</td>\n",
       "    </tr>\n",
       "    <tr>\n",
       "      <td>min</td>\n",
       "      <td>93,307,390,032.00</td>\n",
       "      <td>1.00</td>\n",
       "      <td>1.00</td>\n",
       "      <td>1.00</td>\n",
       "      <td>-1.00</td>\n",
       "      <td>0.00</td>\n",
       "      <td>0.00</td>\n",
       "      <td>0.00</td>\n",
       "    </tr>\n",
       "    <tr>\n",
       "      <td>25%</td>\n",
       "      <td>115,274,803,114.00</td>\n",
       "      <td>9.00</td>\n",
       "      <td>1.00</td>\n",
       "      <td>1.00</td>\n",
       "      <td>2.00</td>\n",
       "      <td>4.00</td>\n",
       "      <td>46.25</td>\n",
       "      <td>5.00</td>\n",
       "    </tr>\n",
       "    <tr>\n",
       "      <td>50%</td>\n",
       "      <td>115,520,650,489.00</td>\n",
       "      <td>14.00</td>\n",
       "      <td>1.00</td>\n",
       "      <td>2.00</td>\n",
       "      <td>4.00</td>\n",
       "      <td>5.00</td>\n",
       "      <td>100.00</td>\n",
       "      <td>12.00</td>\n",
       "    </tr>\n",
       "    <tr>\n",
       "      <td>75%</td>\n",
       "      <td>116,649,247,511.00</td>\n",
       "      <td>24.00</td>\n",
       "      <td>2.00</td>\n",
       "      <td>4.00</td>\n",
       "      <td>6.00</td>\n",
       "      <td>5.00</td>\n",
       "      <td>115.00</td>\n",
       "      <td>18.00</td>\n",
       "    </tr>\n",
       "    <tr>\n",
       "      <td>max</td>\n",
       "      <td>117,402,493,768.00</td>\n",
       "      <td>111.00</td>\n",
       "      <td>133.00</td>\n",
       "      <td>449.00</td>\n",
       "      <td>9.00</td>\n",
       "      <td>5.00</td>\n",
       "      <td>2,700.00</td>\n",
       "      <td>21.00</td>\n",
       "    </tr>\n",
       "  </tbody>\n",
       "</table>\n",
       "</div>"
      ],
      "text/plain": [
       "                  AMP_ID  CURRENT_LEVEL_NUMBER  ACTIVE_DAYS  TOTAL_SESSIONS  \\\n",
       "count             550.00                550.00       550.00          550.00   \n",
       "mean  115,123,818,817.02                 20.86         5.12           13.94   \n",
       "std     4,005,611,265.07                 22.87        19.32           64.81   \n",
       "min    93,307,390,032.00                  1.00         1.00            1.00   \n",
       "25%   115,274,803,114.00                  9.00         1.00            1.00   \n",
       "50%   115,520,650,489.00                 14.00         1.00            2.00   \n",
       "75%   116,649,247,511.00                 24.00         2.00            4.00   \n",
       "max   117,402,493,768.00                111.00       133.00          449.00   \n",
       "\n",
       "       CURRENT_LEVEL_VERSION  CURRENT_LIVES_BALANCE  HARDCASH_BALANCE  \\\n",
       "count                 550.00                 550.00            550.00   \n",
       "mean                    4.19                   4.07             97.33   \n",
       "std                     2.33                   1.70            159.67   \n",
       "min                    -1.00                   0.00              0.00   \n",
       "25%                     2.00                   4.00             46.25   \n",
       "50%                     4.00                   5.00            100.00   \n",
       "75%                     6.00                   5.00            115.00   \n",
       "max                     9.00                   5.00          2,700.00   \n",
       "\n",
       "       STAR_BALANCE  \n",
       "count        550.00  \n",
       "mean          11.11  \n",
       "std            6.99  \n",
       "min            0.00  \n",
       "25%            5.00  \n",
       "50%           12.00  \n",
       "75%           18.00  \n",
       "max           21.00  "
      ]
     },
     "execution_count": 339,
     "metadata": {},
     "output_type": "execute_result"
    }
   ],
   "source": [
    "df.describe()"
   ]
  },
  {
   "cell_type": "code",
   "execution_count": 329,
   "metadata": {},
   "outputs": [
    {
     "data": {
      "text/plain": [
       "count     550\n",
       "unique    155\n",
       "top         5\n",
       "freq       17\n",
       "Name: TOTAL_MINUTE_PLAYED, dtype: object"
      ]
     },
     "execution_count": 329,
     "metadata": {},
     "output_type": "execute_result"
    }
   ],
   "source": [
    "df.TOTAL_MINUTE_PLAYED.describe()"
   ]
  },
  {
   "cell_type": "code",
   "execution_count": 328,
   "metadata": {},
   "outputs": [
    {
     "name": "stdout",
     "output_type": "stream",
     "text": [
      "         AMP_ID CURRENT_LEVEL_FILENAME TOTAL_MINUTE_PLAYED IS_OFFLINE  \\\n",
      "0  115274803114   vb_re_bombandcages_a                  76      false   \n",
      "1  115517106206  me_tut_rainbowfruit_a                 135       true   \n",
      "2  115849545211        as_re_thetube_a                  39      false   \n",
      "3  115274803114    vb_re_heartshaped_a                 106      false   \n",
      "4  116233294067      me_bu_toughcorn_a                  66      false   \n",
      "\n",
      "  LEVEL_ATTEMPT IS_OFFLINE_SESSION_ID  \n",
      "0             7                     0  \n",
      "1             3                     1  \n",
      "2             1                     0  \n",
      "3             5                     0  \n",
      "4             6                     0  \n",
      "AMP_ID                    0\n",
      "CURRENT_LEVEL_FILENAME    0\n",
      "TOTAL_MINUTE_PLAYED       0\n",
      "IS_OFFLINE                0\n",
      "LEVEL_ATTEMPT             0\n",
      "IS_OFFLINE_SESSION_ID     0\n",
      "dtype: int64\n"
     ]
    }
   ],
   "source": [
    "categorical_df = df.select_dtypes(include=['object']).copy()\n",
    "print(categorical_df.head())\n",
    "\n",
    "\n",
    "print(categorical_df.isnull().sum())"
   ]
  },
  {
   "cell_type": "code",
   "execution_count": 330,
   "metadata": {
    "scrolled": false
   },
   "outputs": [
    {
     "data": {
      "text/plain": [
       "AMP_ID                  115,520,650,489.00\n",
       "CURRENT_LEVEL_NUMBER                 14.00\n",
       "ACTIVE_DAYS                           1.00\n",
       "TOTAL_SESSIONS                        2.00\n",
       "NB_HOURS_OFFLINE                      0.00\n",
       "CURRENT_LIVES_BALANCE                 5.00\n",
       "HARDCASH_BALANCE                    100.00\n",
       "STAR_BALANCE                         12.00\n",
       "dtype: float64"
      ]
     },
     "execution_count": 330,
     "metadata": {},
     "output_type": "execute_result"
    }
   ],
   "source": [
    "df.median()"
   ]
  },
  {
   "cell_type": "code",
   "execution_count": null,
   "metadata": {
    "scrolled": false
   },
   "outputs": [],
   "source": [
    "df[\"day_of_week\"] = df[\"THE_DATE\"].dt.day_name()\n",
    "df.groupby('day_of_week')[[\"AMP_ID\"]].count().sort_values(\"AMP_ID\", ascending=False)"
   ]
  },
  {
   "cell_type": "code",
   "execution_count": null,
   "metadata": {
    "scrolled": false
   },
   "outputs": [],
   "source": [
    "fig, ax = plt.subplots(figsize=(16,8))\n",
    "df.groupby('THE_DATE').count()['AMP_ID'].plot(ax=ax)\n",
    "\n",
    "fig, ax = plt.subplots(figsize=(16,8))\n",
    "df.groupby('CURRENT_LEVEL_NUMBER').count()['AMP_ID'].plot(ax=ax)"
   ]
  },
  {
   "cell_type": "code",
   "execution_count": null,
   "metadata": {
    "scrolled": true
   },
   "outputs": [],
   "source": [
    "a=(df.groupby('TOTAL_SESSIONS')[[\"AMP_ID\"]].count()) \n",
    "a"
   ]
  },
  {
   "cell_type": "code",
   "execution_count": null,
   "metadata": {},
   "outputs": [],
   "source": [
    "filter1=df.groupby('TOTAL_SESSIONS')[[\"AMP_ID\"]].count()>10\n",
    "filter1\n",
    "a.where(filter1).dropna()"
   ]
  },
  {
   "cell_type": "code",
   "execution_count": 331,
   "metadata": {},
   "outputs": [],
   "source": [
    "from sklearn.tree import DecisionTreeClassifier # Import Decision Tree Classifier\n",
    "from sklearn.model_selection import train_test_split # Import train_test_split function\n",
    "from sklearn import metrics #Import scikit-learn metrics module for accuracy calculation"
   ]
  },
  {
   "cell_type": "code",
   "execution_count": 356,
   "metadata": {},
   "outputs": [],
   "source": [
    "#split dataset in features and target variable\n",
    "feature_cols = ['HARDCASH_BALANCE', 'STAR_BALANCE']\n",
    "X = df[feature_cols] # Features\n",
    "y = df.IS_OFFLINE  # Target variable"
   ]
  },
  {
   "cell_type": "code",
   "execution_count": 357,
   "metadata": {},
   "outputs": [],
   "source": [
    "# Split dataset into training set and test set\n",
    "X_train, X_test, y_train, y_test = train_test_split(X, y, test_size=0.3, random_state=1) # 70% training and 30% test"
   ]
  },
  {
   "cell_type": "code",
   "execution_count": 358,
   "metadata": {},
   "outputs": [],
   "source": [
    "# Create Decision Tree classifer object\n",
    "clf = DecisionTreeClassifier()\n",
    "\n",
    "# Train Decision Tree Classifer\n",
    "clf = clf.fit(X_train,y_train)\n",
    "\n",
    "#Predict the response for test dataset\n",
    "y_pred = clf.predict(X_test)"
   ]
  },
  {
   "cell_type": "code",
   "execution_count": 359,
   "metadata": {},
   "outputs": [
    {
     "name": "stdout",
     "output_type": "stream",
     "text": [
      "Accuracy: 0.9333333333333333\n"
     ]
    }
   ],
   "source": [
    "# Model Accuracy, how often is the classifier correct?\n",
    "print(\"Accuracy:\",metrics.accuracy_score(y_test, y_pred))"
   ]
  },
  {
   "cell_type": "code",
   "execution_count": 360,
   "metadata": {},
   "outputs": [
    {
     "ename": "IndexError",
     "evalue": "list index out of range",
     "output_type": "error",
     "traceback": [
      "\u001b[1;31m---------------------------------------------------------------------------\u001b[0m",
      "\u001b[1;31mIndexError\u001b[0m                                Traceback (most recent call last)",
      "\u001b[1;32m<ipython-input-360-69f80f6594e6>\u001b[0m in \u001b[0;36m<module>\u001b[1;34m\u001b[0m\n\u001b[0;32m      7\u001b[0m export_graphviz(clf, out_file=dot_data,  \n\u001b[0;32m      8\u001b[0m                 \u001b[0mfilled\u001b[0m\u001b[1;33m=\u001b[0m\u001b[1;32mTrue\u001b[0m\u001b[1;33m,\u001b[0m \u001b[0mrounded\u001b[0m\u001b[1;33m=\u001b[0m\u001b[1;32mTrue\u001b[0m\u001b[1;33m,\u001b[0m\u001b[1;33m\u001b[0m\u001b[1;33m\u001b[0m\u001b[0m\n\u001b[1;32m----> 9\u001b[1;33m                 special_characters=True,feature_names = feature_cols,class_names=['false','true'])\n\u001b[0m\u001b[0;32m     10\u001b[0m \u001b[0mgraph\u001b[0m \u001b[1;33m=\u001b[0m \u001b[0mpydotplus\u001b[0m\u001b[1;33m.\u001b[0m\u001b[0mgraph_from_dot_data\u001b[0m\u001b[1;33m(\u001b[0m\u001b[0mdot_data\u001b[0m\u001b[1;33m.\u001b[0m\u001b[0mgetvalue\u001b[0m\u001b[1;33m(\u001b[0m\u001b[1;33m)\u001b[0m\u001b[1;33m)\u001b[0m\u001b[1;33m\u001b[0m\u001b[1;33m\u001b[0m\u001b[0m\n\u001b[0;32m     11\u001b[0m \u001b[0mgraph\u001b[0m\u001b[1;33m.\u001b[0m\u001b[0mwrite_png\u001b[0m\u001b[1;33m(\u001b[0m\u001b[1;34m'diabetes.png'\u001b[0m\u001b[1;33m)\u001b[0m\u001b[1;33m\u001b[0m\u001b[1;33m\u001b[0m\u001b[0m\n",
      "\u001b[1;32m~\\Anaconda3\\lib\\site-packages\\sklearn\\tree\\export.py\u001b[0m in \u001b[0;36mexport_graphviz\u001b[1;34m(decision_tree, out_file, max_depth, feature_names, class_names, label, filled, leaves_parallel, impurity, node_ids, proportion, rotate, rounded, special_characters, precision)\u001b[0m\n\u001b[0;32m    774\u001b[0m             \u001b[0mrounded\u001b[0m\u001b[1;33m=\u001b[0m\u001b[0mrounded\u001b[0m\u001b[1;33m,\u001b[0m \u001b[0mspecial_characters\u001b[0m\u001b[1;33m=\u001b[0m\u001b[0mspecial_characters\u001b[0m\u001b[1;33m,\u001b[0m\u001b[1;33m\u001b[0m\u001b[1;33m\u001b[0m\u001b[0m\n\u001b[0;32m    775\u001b[0m             precision=precision)\n\u001b[1;32m--> 776\u001b[1;33m         \u001b[0mexporter\u001b[0m\u001b[1;33m.\u001b[0m\u001b[0mexport\u001b[0m\u001b[1;33m(\u001b[0m\u001b[0mdecision_tree\u001b[0m\u001b[1;33m)\u001b[0m\u001b[1;33m\u001b[0m\u001b[1;33m\u001b[0m\u001b[0m\n\u001b[0m\u001b[0;32m    777\u001b[0m \u001b[1;33m\u001b[0m\u001b[0m\n\u001b[0;32m    778\u001b[0m         \u001b[1;32mif\u001b[0m \u001b[0mreturn_string\u001b[0m\u001b[1;33m:\u001b[0m\u001b[1;33m\u001b[0m\u001b[1;33m\u001b[0m\u001b[0m\n",
      "\u001b[1;32m~\\Anaconda3\\lib\\site-packages\\sklearn\\tree\\export.py\u001b[0m in \u001b[0;36mexport\u001b[1;34m(self, decision_tree)\u001b[0m\n\u001b[0;32m    407\u001b[0m         \u001b[1;32melse\u001b[0m\u001b[1;33m:\u001b[0m\u001b[1;33m\u001b[0m\u001b[1;33m\u001b[0m\u001b[0m\n\u001b[0;32m    408\u001b[0m             self.recurse(decision_tree.tree_, 0,\n\u001b[1;32m--> 409\u001b[1;33m                          criterion=decision_tree.criterion)\n\u001b[0m\u001b[0;32m    410\u001b[0m \u001b[1;33m\u001b[0m\u001b[0m\n\u001b[0;32m    411\u001b[0m         \u001b[0mself\u001b[0m\u001b[1;33m.\u001b[0m\u001b[0mtail\u001b[0m\u001b[1;33m(\u001b[0m\u001b[1;33m)\u001b[0m\u001b[1;33m\u001b[0m\u001b[1;33m\u001b[0m\u001b[0m\n",
      "\u001b[1;32m~\\Anaconda3\\lib\\site-packages\\sklearn\\tree\\export.py\u001b[0m in \u001b[0;36mrecurse\u001b[1;34m(self, tree, node_id, criterion, parent, depth)\u001b[0m\n\u001b[0;32m    491\u001b[0m             \u001b[1;32mif\u001b[0m \u001b[0mleft_child\u001b[0m \u001b[1;33m!=\u001b[0m \u001b[0m_tree\u001b[0m\u001b[1;33m.\u001b[0m\u001b[0mTREE_LEAF\u001b[0m\u001b[1;33m:\u001b[0m\u001b[1;33m\u001b[0m\u001b[1;33m\u001b[0m\u001b[0m\n\u001b[0;32m    492\u001b[0m                 self.recurse(tree, left_child, criterion=criterion,\n\u001b[1;32m--> 493\u001b[1;33m                              parent=node_id, depth=depth + 1)\n\u001b[0m\u001b[0;32m    494\u001b[0m                 self.recurse(tree, right_child, criterion=criterion,\n\u001b[0;32m    495\u001b[0m                              parent=node_id, depth=depth + 1)\n",
      "\u001b[1;32m~\\Anaconda3\\lib\\site-packages\\sklearn\\tree\\export.py\u001b[0m in \u001b[0;36mrecurse\u001b[1;34m(self, tree, node_id, criterion, parent, depth)\u001b[0m\n\u001b[0;32m    491\u001b[0m             \u001b[1;32mif\u001b[0m \u001b[0mleft_child\u001b[0m \u001b[1;33m!=\u001b[0m \u001b[0m_tree\u001b[0m\u001b[1;33m.\u001b[0m\u001b[0mTREE_LEAF\u001b[0m\u001b[1;33m:\u001b[0m\u001b[1;33m\u001b[0m\u001b[1;33m\u001b[0m\u001b[0m\n\u001b[0;32m    492\u001b[0m                 self.recurse(tree, left_child, criterion=criterion,\n\u001b[1;32m--> 493\u001b[1;33m                              parent=node_id, depth=depth + 1)\n\u001b[0m\u001b[0;32m    494\u001b[0m                 self.recurse(tree, right_child, criterion=criterion,\n\u001b[0;32m    495\u001b[0m                              parent=node_id, depth=depth + 1)\n",
      "\u001b[1;32m~\\Anaconda3\\lib\\site-packages\\sklearn\\tree\\export.py\u001b[0m in \u001b[0;36mrecurse\u001b[1;34m(self, tree, node_id, criterion, parent, depth)\u001b[0m\n\u001b[0;32m    491\u001b[0m             \u001b[1;32mif\u001b[0m \u001b[0mleft_child\u001b[0m \u001b[1;33m!=\u001b[0m \u001b[0m_tree\u001b[0m\u001b[1;33m.\u001b[0m\u001b[0mTREE_LEAF\u001b[0m\u001b[1;33m:\u001b[0m\u001b[1;33m\u001b[0m\u001b[1;33m\u001b[0m\u001b[0m\n\u001b[0;32m    492\u001b[0m                 self.recurse(tree, left_child, criterion=criterion,\n\u001b[1;32m--> 493\u001b[1;33m                              parent=node_id, depth=depth + 1)\n\u001b[0m\u001b[0;32m    494\u001b[0m                 self.recurse(tree, right_child, criterion=criterion,\n\u001b[0;32m    495\u001b[0m                              parent=node_id, depth=depth + 1)\n",
      "\u001b[1;32m~\\Anaconda3\\lib\\site-packages\\sklearn\\tree\\export.py\u001b[0m in \u001b[0;36mrecurse\u001b[1;34m(self, tree, node_id, criterion, parent, depth)\u001b[0m\n\u001b[0;32m    493\u001b[0m                              parent=node_id, depth=depth + 1)\n\u001b[0;32m    494\u001b[0m                 self.recurse(tree, right_child, criterion=criterion,\n\u001b[1;32m--> 495\u001b[1;33m                              parent=node_id, depth=depth + 1)\n\u001b[0m\u001b[0;32m    496\u001b[0m \u001b[1;33m\u001b[0m\u001b[0m\n\u001b[0;32m    497\u001b[0m         \u001b[1;32melse\u001b[0m\u001b[1;33m:\u001b[0m\u001b[1;33m\u001b[0m\u001b[1;33m\u001b[0m\u001b[0m\n",
      "\u001b[1;32m~\\Anaconda3\\lib\\site-packages\\sklearn\\tree\\export.py\u001b[0m in \u001b[0;36mrecurse\u001b[1;34m(self, tree, node_id, criterion, parent, depth)\u001b[0m\n\u001b[0;32m    491\u001b[0m             \u001b[1;32mif\u001b[0m \u001b[0mleft_child\u001b[0m \u001b[1;33m!=\u001b[0m \u001b[0m_tree\u001b[0m\u001b[1;33m.\u001b[0m\u001b[0mTREE_LEAF\u001b[0m\u001b[1;33m:\u001b[0m\u001b[1;33m\u001b[0m\u001b[1;33m\u001b[0m\u001b[0m\n\u001b[0;32m    492\u001b[0m                 self.recurse(tree, left_child, criterion=criterion,\n\u001b[1;32m--> 493\u001b[1;33m                              parent=node_id, depth=depth + 1)\n\u001b[0m\u001b[0;32m    494\u001b[0m                 self.recurse(tree, right_child, criterion=criterion,\n\u001b[0;32m    495\u001b[0m                              parent=node_id, depth=depth + 1)\n",
      "\u001b[1;32m~\\Anaconda3\\lib\\site-packages\\sklearn\\tree\\export.py\u001b[0m in \u001b[0;36mrecurse\u001b[1;34m(self, tree, node_id, criterion, parent, depth)\u001b[0m\n\u001b[0;32m    467\u001b[0m             self.out_file.write(\n\u001b[0;32m    468\u001b[0m                 '%d [label=%s' % (node_id, self.node_to_str(tree, node_id,\n\u001b[1;32m--> 469\u001b[1;33m                                                             criterion)))\n\u001b[0m\u001b[0;32m    470\u001b[0m \u001b[1;33m\u001b[0m\u001b[0m\n\u001b[0;32m    471\u001b[0m             \u001b[1;32mif\u001b[0m \u001b[0mself\u001b[0m\u001b[1;33m.\u001b[0m\u001b[0mfilled\u001b[0m\u001b[1;33m:\u001b[0m\u001b[1;33m\u001b[0m\u001b[1;33m\u001b[0m\u001b[0m\n",
      "\u001b[1;32m~\\Anaconda3\\lib\\site-packages\\sklearn\\tree\\export.py\u001b[0m in \u001b[0;36mnode_to_str\u001b[1;34m(self, tree, node_id, criterion)\u001b[0m\n\u001b[0;32m    337\u001b[0m                 \u001b[0mnode_string\u001b[0m \u001b[1;33m+=\u001b[0m \u001b[1;34m'class = '\u001b[0m\u001b[1;33m\u001b[0m\u001b[1;33m\u001b[0m\u001b[0m\n\u001b[0;32m    338\u001b[0m             \u001b[1;32mif\u001b[0m \u001b[0mself\u001b[0m\u001b[1;33m.\u001b[0m\u001b[0mclass_names\u001b[0m \u001b[1;32mis\u001b[0m \u001b[1;32mnot\u001b[0m \u001b[1;32mTrue\u001b[0m\u001b[1;33m:\u001b[0m\u001b[1;33m\u001b[0m\u001b[1;33m\u001b[0m\u001b[0m\n\u001b[1;32m--> 339\u001b[1;33m                 \u001b[0mclass_name\u001b[0m \u001b[1;33m=\u001b[0m \u001b[0mself\u001b[0m\u001b[1;33m.\u001b[0m\u001b[0mclass_names\u001b[0m\u001b[1;33m[\u001b[0m\u001b[0mnp\u001b[0m\u001b[1;33m.\u001b[0m\u001b[0margmax\u001b[0m\u001b[1;33m(\u001b[0m\u001b[0mvalue\u001b[0m\u001b[1;33m)\u001b[0m\u001b[1;33m]\u001b[0m\u001b[1;33m\u001b[0m\u001b[1;33m\u001b[0m\u001b[0m\n\u001b[0m\u001b[0;32m    340\u001b[0m             \u001b[1;32melse\u001b[0m\u001b[1;33m:\u001b[0m\u001b[1;33m\u001b[0m\u001b[1;33m\u001b[0m\u001b[0m\n\u001b[0;32m    341\u001b[0m                 class_name = \"y%s%s%s\" % (characters[1],\n",
      "\u001b[1;31mIndexError\u001b[0m: list index out of range"
     ]
    }
   ],
   "source": [
    "from sklearn.tree import export_graphviz\n",
    "from sklearn.externals.six import StringIO  \n",
    "from IPython.display import Image  \n",
    "import pydotplus\n",
    "\n",
    "dot_data = StringIO()\n",
    "export_graphviz(clf, out_file=dot_data,  \n",
    "                filled=True, rounded=True,\n",
    "                special_characters=True,feature_names = feature_cols,class_names=['false','true'])\n",
    "graph = pydotplus.graph_from_dot_data(dot_data.getvalue())  \n",
    "graph.write_png('diabetes.png')\n",
    "Image(graph.create_png())"
   ]
  }
 ],
 "metadata": {
  "kernelspec": {
   "display_name": "Python 3",
   "language": "python",
   "name": "python3"
  },
  "language_info": {
   "codemirror_mode": {
    "name": "ipython",
    "version": 3
   },
   "file_extension": ".py",
   "mimetype": "text/x-python",
   "name": "python",
   "nbconvert_exporter": "python",
   "pygments_lexer": "ipython3",
   "version": "3.7.4"
  }
 },
 "nbformat": 4,
 "nbformat_minor": 2
}
